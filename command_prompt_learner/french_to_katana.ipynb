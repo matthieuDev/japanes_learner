{
 "cells": [
  {
   "cell_type": "markdown",
   "id": "30065d54",
   "metadata": {},
   "source": [
    "# Creator\n",
    "\n",
    "TODO : handle punctuation\n",
    "\n",
    "end good translation (v -> b)\n",
    "\n"
   ]
  },
  {
   "cell_type": "code",
   "execution_count": 46,
   "id": "e7385afe",
   "metadata": {},
   "outputs": [],
   "source": [
    "import json, epitran\n",
    "from nltk import ngrams"
   ]
  },
  {
   "cell_type": "code",
   "execution_count": 2,
   "id": "aa3300b7",
   "metadata": {},
   "outputs": [],
   "source": [
    "save_file = 'katakana2letter.json'\n",
    "with open (save_file, encoding='utf8') as f :\n",
    "    translator2letters = json.load(f)\n",
    "epi = epitran.Epitran('fra-Latn')"
   ]
  },
  {
   "cell_type": "code",
   "execution_count": 178,
   "id": "73c0e32a",
   "metadata": {},
   "outputs": [],
   "source": [
    "phon_translator2letters = {\n",
    "    tuple(epi.transliterate(let.replace('sh', 'ch'))): jap_let \n",
    "    for jap_let, let in translator2letters.items()\n",
    "}"
   ]
  },
  {
   "cell_type": "code",
   "execution_count": 177,
   "id": "5169e764",
   "metadata": {},
   "outputs": [
    {
     "data": {
      "text/plain": [
       "('a',)"
      ]
     },
     "execution_count": 177,
     "metadata": {},
     "output_type": "execute_result"
    }
   ],
   "source": [
    "tuple(['a'])"
   ]
  },
  {
   "cell_type": "code",
   "execution_count": 247,
   "id": "e7ab02a5",
   "metadata": {
    "scrolled": true
   },
   "outputs": [],
   "source": [
    "#phon_translator2letters"
   ]
  },
  {
   "cell_type": "code",
   "execution_count": 237,
   "id": "16464d2e",
   "metadata": {},
   "outputs": [],
   "source": [
    "test = '''§ 276. Pour la nouvelle année. - Je vis encore, je pense encore : je dois vivre encore, car je dois encore penser. Sum, ergo cogito : cogito : ergo sum. Aujourd’hui, chacun ose exprimer son vœu et sa pensée la plus chère : soit ! Je veux donc dire moi aussi ce qu'aujourd'hui je me souhaitais à moi-même et quelle pensée a cette année été la première à traverser mon cœur – quelle pensée doit être le fondement, la garantie et la douceur de toute pensée à venir ! Je veux toujours plus apprendre à voir la nécessité dans les choses comme le beau – ainsi serai-je l'un de ceux qui rendent belles les choses. Amor fati : que cela soit à présent mon amour ! Je ne veux mener aucune guerre contre le laid. Je ne veux pas accuser, je ne veux pas même accuser les accusateurs. Que détourner le regard soit mon unique négation ! Et, en tout et pour tout, et en grand : je veux, en n'importe quelle circonstance, n'être rien d'autre que quelqu'un qui dit oui. '''"
   ]
  },
  {
   "cell_type": "code",
   "execution_count": 245,
   "id": "3a8596ac",
   "metadata": {},
   "outputs": [],
   "source": [
    "change_phon = {\n",
    "    'ɛ': 'ə',\n",
    "    'e': 'ə',\n",
    "    'ɔ̃': 'on',\n",
    "    'ɔ': 'on',\n",
    "    'ɑ̃': 'an',\n",
    "    'ɑ': 'an',\n",
    "    '̃ ': '',\n",
    "    '̃': '',\n",
    "    'l': 'ʀ',\n",
    "}\n",
    "def phenotic_fr(s):\n",
    "    s = s.replace('er', 'é').replace('ez', 'é')\n",
    "    phons = epi.transliterate(s)\n",
    "    if phons[-1] == s[-1] and phons[-1] in 'dpqstr' :\n",
    "        phons = phons[:-1]\n",
    "    phons = ''.join([change_phon.get(let, let) for let in phons if change_phon.get(let, let)])\n",
    "    return phons\n",
    "def phenotic_fr2jap_let(phons) :\n",
    "    retake = 0\n",
    "    res = ''\n",
    "    for let in ngrams(phons, 3 , pad_right=True):\n",
    "        \n",
    "        if let[0] is None :\n",
    "            break\n",
    "        if retake > 0 :\n",
    "            retake -= 1\n",
    "        else :\n",
    "            #print(res, let, phons)\n",
    "            found_smthg = False\n",
    "            for test_let, size_let in [\n",
    "                (let, 3),\n",
    "                (let[:2], 2),\n",
    "                (let[:2] + ('y',), 2),\n",
    "                (let[:1], 1),\n",
    "                (let[:1] + ('y',), 1),\n",
    "                (let[:1] + ('ə',), 1),\n",
    "            ]:\n",
    "                if test_let in phon_translator2letters :\n",
    "                    res += phon_translator2letters[test_let]\n",
    "                    retake = size_let - 1\n",
    "                    found_smthg =  True\n",
    "                    break\n",
    "            if not found_smthg and let[0] == 'ʃ':\n",
    "                res += phon_translator2letters[tuple('ʃi')]\n",
    "                found_smthg =  True\n",
    "\n",
    "            if not found_smthg:\n",
    "                if not let in {\n",
    "                    ('t', None, None),\n",
    "                } :\n",
    "                    print('problem', retake, let, '/', phons)\n",
    "\n",
    "    return res if res else phons\n",
    "\n",
    "def fr2katakana(text):\n",
    "    phons = phenotic_fr(text)\n",
    "    return ' '.join([phenotic_fr2jap_let(word) for word in phons.split(' ')])"
   ]
  },
  {
   "cell_type": "code",
   "execution_count": 248,
   "id": "d6249d40",
   "metadata": {},
   "outputs": [],
   "source": [
    "#list(zip(fr2katakana(test).split(' '), test.split(' '), phenotic_fr(test).split(' ')))"
   ]
  },
  {
   "cell_type": "code",
   "execution_count": null,
   "id": "f85f6d7f",
   "metadata": {},
   "outputs": [],
   "source": []
  }
 ],
 "metadata": {
  "kernelspec": {
   "display_name": "Python 3 (ipykernel)",
   "language": "python",
   "name": "python3"
  },
  "language_info": {
   "codemirror_mode": {
    "name": "ipython",
    "version": 3
   },
   "file_extension": ".py",
   "mimetype": "text/x-python",
   "name": "python",
   "nbconvert_exporter": "python",
   "pygments_lexer": "ipython3",
   "version": "3.9.10"
  }
 },
 "nbformat": 4,
 "nbformat_minor": 5
}
