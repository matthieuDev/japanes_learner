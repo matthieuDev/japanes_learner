{
 "cells": [
  {
   "cell_type": "markdown",
   "id": "30065d54",
   "metadata": {},
   "source": [
    "# Creator\n",
    "\n",
    "TODO : handle punctuation\n",
    "\n",
    "end good translation (v -> b)\n",
    "\n"
   ]
  },
  {
   "cell_type": "code",
   "execution_count": 23,
   "id": "e7385afe",
   "metadata": {},
   "outputs": [],
   "source": [
    "from french_to_katana import french_to_katana"
   ]
  },
  {
   "cell_type": "code",
   "execution_count": 24,
   "id": "873ef35f",
   "metadata": {},
   "outputs": [],
   "source": [
    "fr2katakana = french_to_katana()"
   ]
  },
  {
   "cell_type": "code",
   "execution_count": 25,
   "id": "f85f6d7f",
   "metadata": {},
   "outputs": [
    {
     "name": "stdout",
     "output_type": "stream",
     "text": [
      "problem 0 ('j', 'o', 'n') / ʀəʀiʒjon\n"
     ]
    },
    {
     "data": {
      "text/plain": [
       "'れりじゅほん'"
      ]
     },
     "execution_count": 25,
     "metadata": {},
     "output_type": "execute_result"
    }
   ],
   "source": [
    "fr2katakana.fr2katakana('Religion')"
   ]
  },
  {
   "cell_type": "code",
   "execution_count": 26,
   "id": "ae00efe5",
   "metadata": {},
   "outputs": [
    {
     "data": {
      "text/plain": [
       "'ほんぴたる'"
      ]
     },
     "execution_count": 26,
     "metadata": {},
     "output_type": "execute_result"
    }
   ],
   "source": [
    "fr2katakana.fr2katakana('Hopital')"
   ]
  }
 ],
 "metadata": {
  "kernelspec": {
   "display_name": "Python 3 (ipykernel)",
   "language": "python",
   "name": "python3"
  },
  "language_info": {
   "codemirror_mode": {
    "name": "ipython",
    "version": 3
   },
   "file_extension": ".py",
   "mimetype": "text/x-python",
   "name": "python",
   "nbconvert_exporter": "python",
   "pygments_lexer": "ipython3",
   "version": "3.10.10"
  }
 },
 "nbformat": 4,
 "nbformat_minor": 5
}
